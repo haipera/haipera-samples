{
 "cells": [
  {
   "cell_type": "code",
   "execution_count": 1,
   "id": "147d9cba-b842-470f-9b53-59e24cfc4fd4",
   "metadata": {
    "execution": {
     "iopub.execute_input": "2024-07-19T23:58:56.558362Z",
     "iopub.status.busy": "2024-07-19T23:58:56.558049Z",
     "iopub.status.idle": "2024-07-19T23:58:57.480371Z",
     "shell.execute_reply": "2024-07-19T23:58:57.480086Z",
     "shell.execute_reply.started": "2024-07-19T23:58:56.558340Z"
    }
   },
   "outputs": [],
   "source": [
    "import os\n",
    "\n",
    "import torch\n",
    "import torch.nn as nn\n",
    "import torch.optim as optim\n",
    "import torch.nn.functional as F\n",
    "\n",
    "import numpy as np\n",
    "from PIL import Image"
   ]
  },
  {
   "cell_type": "code",
   "execution_count": 2,
   "id": "b038685a-fb9c-4e53-af5b-35b0af6261ac",
   "metadata": {
    "execution": {
     "iopub.execute_input": "2024-07-19T23:59:02.377893Z",
     "iopub.status.busy": "2024-07-19T23:59:02.377094Z",
     "iopub.status.idle": "2024-07-19T23:59:02.385354Z",
     "shell.execute_reply": "2024-07-19T23:59:02.384641Z",
     "shell.execute_reply.started": "2024-07-19T23:59:02.377866Z"
    }
   },
   "outputs": [],
   "source": [
    "data_path = 'data/sample.jpg'\n",
    "\n",
    "learning_rate = 0.001\n",
    "num_epochs = 100\n",
    "batch_size = 1024\n",
    "num_layers = 2\n",
    "hidden_size = 128\n",
    "num_molecules = 64\n",
    "num_components = 128"
   ]
  },
  {
   "cell_type": "code",
   "execution_count": 4,
   "id": "bd25ccc0-d6ab-4c52-8d04-8a91ad5fe795",
   "metadata": {
    "execution": {
     "iopub.execute_input": "2024-07-19T23:59:36.362502Z",
     "iopub.status.busy": "2024-07-19T23:59:36.362173Z",
     "iopub.status.idle": "2024-07-19T23:59:36.369588Z",
     "shell.execute_reply": "2024-07-19T23:59:36.368396Z",
     "shell.execute_reply.started": "2024-07-19T23:59:36.362480Z"
    }
   },
   "outputs": [
    {
     "name": "stdout",
     "output_type": "stream",
     "text": [
      "num_layers: 2\n",
      "num_molecules: 64\n",
      "hidden_size: 128\n"
     ]
    }
   ],
   "source": [
    "print(\"num_layers:\", num_layers)\n",
    "print(\"num_molecules:\", num_molecules)\n",
    "print(\"hidden_size:\", hidden_size)"
   ]
  },
  {
   "cell_type": "code",
   "execution_count": 5,
   "id": "ca1ca961-2625-4b8f-9f4d-3836bf1b5b3c",
   "metadata": {
    "execution": {
     "iopub.execute_input": "2024-07-19T23:59:36.727796Z",
     "iopub.status.busy": "2024-07-19T23:59:36.726884Z",
     "iopub.status.idle": "2024-07-19T23:59:36.745471Z",
     "shell.execute_reply": "2024-07-19T23:59:36.744940Z",
     "shell.execute_reply.started": "2024-07-19T23:59:36.727756Z"
    }
   },
   "outputs": [],
   "source": [
    "def coordinate_grid(h: int, w: int):\n",
    "    x = torch.linspace(-1, 1, w)\n",
    "    y = torch.linspace(-1, 1, h)\n",
    "    grid = torch.stack(torch.meshgrid(y, x, indexing='ij'), dim=-1)\n",
    "    return grid\n",
    "\n",
    "def load_image(path):\n",
    "    img = Image.open(path)\n",
    "    img = np.array(img).astype(np.float32) / 255\n",
    "    img = torch.tensor(img)\n",
    "    return img\n",
    "\n",
    "def save_image(img, path):\n",
    "    img = img.squeeze(0).detach().cpu().numpy()\n",
    "    img = (img * 255).clip(0, 255).astype(np.uint8)\n",
    "    img = Image.fromarray(img)\n",
    "    img.save(path)\n",
    "\n",
    "class ImageDataset(torch.utils.data.Dataset):\n",
    "    def __init__(self, path):\n",
    "        self.img = load_image(path)\n",
    "        self.size = self.img.shape[:2]\n",
    "        self.pixels = self.img.view(-1, 3)\n",
    "        self.coords = coordinate_grid(*self.size).view(-1, 2)\n",
    "\n",
    "    def __len__(self):\n",
    "        return self.pixels.shape[0]\n",
    "\n",
    "    def __getitem__(self, idx):\n",
    "        return self.coords[idx], self.pixels[idx]\n",
    "    \n",
    "class ImageModel(nn.Module):\n",
    "    def __init__(self, num_layers, hidden_size, input_multiplier=2.0, hidden_multiplier=3.0):\n",
    "        super().__init__()\n",
    "        self.output_multiplier = 2.0\n",
    "        self.input_multiplier = input_multiplier\n",
    "        self.fc = nn.Sequential(\n",
    "            nn.Linear(2, hidden_size),\n",
    "            *[nn.Sequential(\n",
    "                nn.ReLU(),\n",
    "                nn.Linear(hidden_size, hidden_size)\n",
    "            ) for _ in range(num_layers)],\n",
    "            nn.Linear(hidden_size, 3)\n",
    "        )\n",
    "\n",
    "    def forward(self, x):\n",
    "        return self.fc(x * self.input_multiplier) * self.output_multiplier"
   ]
  },
  {
   "cell_type": "code",
   "execution_count": 7,
   "id": "954ab558-e992-486c-bc00-618dded2c5a1",
   "metadata": {
    "execution": {
     "iopub.execute_input": "2024-07-19T23:59:50.344322Z",
     "iopub.status.busy": "2024-07-19T23:59:50.343938Z",
     "iopub.status.idle": "2024-07-19T23:59:50.930839Z",
     "shell.execute_reply": "2024-07-19T23:59:50.930568Z",
     "shell.execute_reply.started": "2024-07-19T23:59:50.344299Z"
    }
   },
   "outputs": [],
   "source": [
    "dataset = ImageDataset(data_path)\n",
    "loader = torch.utils.data.DataLoader(dataset, batch_size=batch_size, shuffle=True)\n",
    "\n",
    "model = ImageModel(num_layers, hidden_size)\n",
    "optimizer = optim.Adam(model.parameters(), lr=learning_rate)"
   ]
  },
  {
   "cell_type": "code",
   "execution_count": 8,
   "id": "eeaadcb8-c023-4555-a377-7b404c77bfbb",
   "metadata": {
    "execution": {
     "iopub.execute_input": "2024-07-19T23:59:51.413782Z",
     "iopub.status.busy": "2024-07-19T23:59:51.413101Z",
     "iopub.status.idle": "2024-07-19T23:59:55.554960Z",
     "shell.execute_reply": "2024-07-19T23:59:55.554464Z",
     "shell.execute_reply.started": "2024-07-19T23:59:51.413754Z"
    }
   },
   "outputs": [
    {
     "name": "stdout",
     "output_type": "stream",
     "text": [
      "Iteration 0, Loss: 0.06446947157382965\n",
      "Iteration 1, Loss: 0.056350331753492355\n"
     ]
    },
    {
     "ename": "KeyboardInterrupt",
     "evalue": "",
     "output_type": "error",
     "traceback": [
      "\u001b[0;31m---------------------------------------------------------------------------\u001b[0m",
      "\u001b[0;31mKeyboardInterrupt\u001b[0m                         Traceback (most recent call last)",
      "Cell \u001b[0;32mIn[8], line 3\u001b[0m\n\u001b[1;32m      1\u001b[0m \u001b[38;5;28;01mfor\u001b[39;00m i \u001b[38;5;129;01min\u001b[39;00m \u001b[38;5;28mrange\u001b[39m(num_epochs):\n\u001b[0;32m----> 3\u001b[0m \u001b[43m    \u001b[49m\u001b[38;5;28;43;01mfor\u001b[39;49;00m\u001b[43m \u001b[49m\u001b[43mcoords\u001b[49m\u001b[43m,\u001b[49m\u001b[43m \u001b[49m\u001b[43mpixels\u001b[49m\u001b[43m \u001b[49m\u001b[38;5;129;43;01min\u001b[39;49;00m\u001b[43m \u001b[49m\u001b[43mloader\u001b[49m\u001b[43m:\u001b[49m\n\u001b[1;32m      4\u001b[0m \u001b[43m        \u001b[49m\u001b[43moptimizer\u001b[49m\u001b[38;5;241;43m.\u001b[39;49m\u001b[43mzero_grad\u001b[49m\u001b[43m(\u001b[49m\u001b[43m)\u001b[49m\n\u001b[1;32m      5\u001b[0m \u001b[43m        \u001b[49m\u001b[43mpred\u001b[49m\u001b[43m \u001b[49m\u001b[38;5;241;43m=\u001b[39;49m\u001b[43m \u001b[49m\u001b[43mmodel\u001b[49m\u001b[43m(\u001b[49m\u001b[43mcoords\u001b[49m\u001b[43m)\u001b[49m\n",
      "File \u001b[0;32m~/miniconda3/lib/python3.11/site-packages/torch/utils/data/dataloader.py:631\u001b[0m, in \u001b[0;36m_BaseDataLoaderIter.__next__\u001b[0;34m(self)\u001b[0m\n\u001b[1;32m    628\u001b[0m \u001b[38;5;28;01mif\u001b[39;00m \u001b[38;5;28mself\u001b[39m\u001b[38;5;241m.\u001b[39m_sampler_iter \u001b[38;5;129;01mis\u001b[39;00m \u001b[38;5;28;01mNone\u001b[39;00m:\n\u001b[1;32m    629\u001b[0m     \u001b[38;5;66;03m# TODO(https://github.com/pytorch/pytorch/issues/76750)\u001b[39;00m\n\u001b[1;32m    630\u001b[0m     \u001b[38;5;28mself\u001b[39m\u001b[38;5;241m.\u001b[39m_reset()  \u001b[38;5;66;03m# type: ignore[call-arg]\u001b[39;00m\n\u001b[0;32m--> 631\u001b[0m data \u001b[38;5;241m=\u001b[39m \u001b[38;5;28;43mself\u001b[39;49m\u001b[38;5;241;43m.\u001b[39;49m\u001b[43m_next_data\u001b[49m\u001b[43m(\u001b[49m\u001b[43m)\u001b[49m\n\u001b[1;32m    632\u001b[0m \u001b[38;5;28mself\u001b[39m\u001b[38;5;241m.\u001b[39m_num_yielded \u001b[38;5;241m+\u001b[39m\u001b[38;5;241m=\u001b[39m \u001b[38;5;241m1\u001b[39m\n\u001b[1;32m    633\u001b[0m \u001b[38;5;28;01mif\u001b[39;00m \u001b[38;5;28mself\u001b[39m\u001b[38;5;241m.\u001b[39m_dataset_kind \u001b[38;5;241m==\u001b[39m _DatasetKind\u001b[38;5;241m.\u001b[39mIterable \u001b[38;5;129;01mand\u001b[39;00m \\\n\u001b[1;32m    634\u001b[0m         \u001b[38;5;28mself\u001b[39m\u001b[38;5;241m.\u001b[39m_IterableDataset_len_called \u001b[38;5;129;01mis\u001b[39;00m \u001b[38;5;129;01mnot\u001b[39;00m \u001b[38;5;28;01mNone\u001b[39;00m \u001b[38;5;129;01mand\u001b[39;00m \\\n\u001b[1;32m    635\u001b[0m         \u001b[38;5;28mself\u001b[39m\u001b[38;5;241m.\u001b[39m_num_yielded \u001b[38;5;241m>\u001b[39m \u001b[38;5;28mself\u001b[39m\u001b[38;5;241m.\u001b[39m_IterableDataset_len_called:\n",
      "File \u001b[0;32m~/miniconda3/lib/python3.11/site-packages/torch/utils/data/dataloader.py:675\u001b[0m, in \u001b[0;36m_SingleProcessDataLoaderIter._next_data\u001b[0;34m(self)\u001b[0m\n\u001b[1;32m    673\u001b[0m \u001b[38;5;28;01mdef\u001b[39;00m \u001b[38;5;21m_next_data\u001b[39m(\u001b[38;5;28mself\u001b[39m):\n\u001b[1;32m    674\u001b[0m     index \u001b[38;5;241m=\u001b[39m \u001b[38;5;28mself\u001b[39m\u001b[38;5;241m.\u001b[39m_next_index()  \u001b[38;5;66;03m# may raise StopIteration\u001b[39;00m\n\u001b[0;32m--> 675\u001b[0m     data \u001b[38;5;241m=\u001b[39m \u001b[38;5;28;43mself\u001b[39;49m\u001b[38;5;241;43m.\u001b[39;49m\u001b[43m_dataset_fetcher\u001b[49m\u001b[38;5;241;43m.\u001b[39;49m\u001b[43mfetch\u001b[49m\u001b[43m(\u001b[49m\u001b[43mindex\u001b[49m\u001b[43m)\u001b[49m  \u001b[38;5;66;03m# may raise StopIteration\u001b[39;00m\n\u001b[1;32m    676\u001b[0m     \u001b[38;5;28;01mif\u001b[39;00m \u001b[38;5;28mself\u001b[39m\u001b[38;5;241m.\u001b[39m_pin_memory:\n\u001b[1;32m    677\u001b[0m         data \u001b[38;5;241m=\u001b[39m _utils\u001b[38;5;241m.\u001b[39mpin_memory\u001b[38;5;241m.\u001b[39mpin_memory(data, \u001b[38;5;28mself\u001b[39m\u001b[38;5;241m.\u001b[39m_pin_memory_device)\n",
      "File \u001b[0;32m~/miniconda3/lib/python3.11/site-packages/torch/utils/data/_utils/fetch.py:51\u001b[0m, in \u001b[0;36m_MapDatasetFetcher.fetch\u001b[0;34m(self, possibly_batched_index)\u001b[0m\n\u001b[1;32m     49\u001b[0m         data \u001b[38;5;241m=\u001b[39m \u001b[38;5;28mself\u001b[39m\u001b[38;5;241m.\u001b[39mdataset\u001b[38;5;241m.\u001b[39m__getitems__(possibly_batched_index)\n\u001b[1;32m     50\u001b[0m     \u001b[38;5;28;01melse\u001b[39;00m:\n\u001b[0;32m---> 51\u001b[0m         data \u001b[38;5;241m=\u001b[39m \u001b[43m[\u001b[49m\u001b[38;5;28;43mself\u001b[39;49m\u001b[38;5;241;43m.\u001b[39;49m\u001b[43mdataset\u001b[49m\u001b[43m[\u001b[49m\u001b[43midx\u001b[49m\u001b[43m]\u001b[49m\u001b[43m \u001b[49m\u001b[38;5;28;43;01mfor\u001b[39;49;00m\u001b[43m \u001b[49m\u001b[43midx\u001b[49m\u001b[43m \u001b[49m\u001b[38;5;129;43;01min\u001b[39;49;00m\u001b[43m \u001b[49m\u001b[43mpossibly_batched_index\u001b[49m\u001b[43m]\u001b[49m\n\u001b[1;32m     52\u001b[0m \u001b[38;5;28;01melse\u001b[39;00m:\n\u001b[1;32m     53\u001b[0m     data \u001b[38;5;241m=\u001b[39m \u001b[38;5;28mself\u001b[39m\u001b[38;5;241m.\u001b[39mdataset[possibly_batched_index]\n",
      "File \u001b[0;32m~/miniconda3/lib/python3.11/site-packages/torch/utils/data/_utils/fetch.py:51\u001b[0m, in \u001b[0;36m<listcomp>\u001b[0;34m(.0)\u001b[0m\n\u001b[1;32m     49\u001b[0m         data \u001b[38;5;241m=\u001b[39m \u001b[38;5;28mself\u001b[39m\u001b[38;5;241m.\u001b[39mdataset\u001b[38;5;241m.\u001b[39m__getitems__(possibly_batched_index)\n\u001b[1;32m     50\u001b[0m     \u001b[38;5;28;01melse\u001b[39;00m:\n\u001b[0;32m---> 51\u001b[0m         data \u001b[38;5;241m=\u001b[39m [\u001b[38;5;28mself\u001b[39m\u001b[38;5;241m.\u001b[39mdataset[idx] \u001b[38;5;28;01mfor\u001b[39;00m idx \u001b[38;5;129;01min\u001b[39;00m possibly_batched_index]\n\u001b[1;32m     52\u001b[0m \u001b[38;5;28;01melse\u001b[39;00m:\n\u001b[1;32m     53\u001b[0m     data \u001b[38;5;241m=\u001b[39m \u001b[38;5;28mself\u001b[39m\u001b[38;5;241m.\u001b[39mdataset[possibly_batched_index]\n",
      "\u001b[0;31mKeyboardInterrupt\u001b[0m: "
     ]
    }
   ],
   "source": [
    "for i in range(num_epochs):\n",
    "\n",
    "    for coords, pixels in loader:\n",
    "        optimizer.zero_grad()\n",
    "        pred = model(coords)\n",
    "        loss = F.mse_loss(pred, pixels)\n",
    "        loss.backward()\n",
    "        optimizer.step()\n",
    "\n",
    "    print(f'Iteration {i}, Loss: {loss.item()}')\n",
    "    img = model(dataset.coords)\n",
    "    img = img.view(*dataset.size, 3)\n",
    "    os.makedirs('output', exist_ok=True)\n",
    "    save_image(img, f'output/{i}.jpg')"
   ]
  },
  {
   "cell_type": "code",
   "execution_count": null,
   "id": "c92a1999-5380-4b8c-b877-b85965110ea0",
   "metadata": {},
   "outputs": [],
   "source": []
  }
 ],
 "metadata": {
  "kernelspec": {
   "display_name": "Python 3 (ipykernel)",
   "language": "python",
   "name": "python3"
  },
  "language_info": {
   "codemirror_mode": {
    "name": "ipython",
    "version": 3
   },
   "file_extension": ".py",
   "mimetype": "text/x-python",
   "name": "python",
   "nbconvert_exporter": "python",
   "pygments_lexer": "ipython3",
   "version": "3.11.4"
  }
 },
 "nbformat": 4,
 "nbformat_minor": 5
}
